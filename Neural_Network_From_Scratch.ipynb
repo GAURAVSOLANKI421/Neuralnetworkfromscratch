{
 "cells": [
  {
   "cell_type": "code",
   "execution_count": 1,
   "id": "3ae8ed8a",
   "metadata": {},
   "outputs": [],
   "source": [
    "%matplotlib inline\n",
    "import numpy as np\n",
    "import pandas as pd\n",
    "import matplotlib.pyplot as plt\n",
    "import seaborn as sns\n",
    "sns.set()\n",
    "from scipy import optimize\n",
    "from ipywidgets import *\n",
    "from IPython.display import SVG\n",
    "from sklearn import datasets"
   ]
  },
  {
   "cell_type": "code",
   "execution_count": 47,
   "id": "e3e20072",
   "metadata": {},
   "outputs": [
    {
     "data": {
      "text/html": [
       "<div>\n",
       "<style scoped>\n",
       "    .dataframe tbody tr th:only-of-type {\n",
       "        vertical-align: middle;\n",
       "    }\n",
       "\n",
       "    .dataframe tbody tr th {\n",
       "        vertical-align: top;\n",
       "    }\n",
       "\n",
       "    .dataframe thead th {\n",
       "        text-align: right;\n",
       "    }\n",
       "</style>\n",
       "<table border=\"1\" class=\"dataframe\">\n",
       "  <thead>\n",
       "    <tr style=\"text-align: right;\">\n",
       "      <th></th>\n",
       "      <th>x1</th>\n",
       "      <th>x2</th>\n",
       "      <th>y</th>\n",
       "    </tr>\n",
       "  </thead>\n",
       "  <tbody>\n",
       "    <tr>\n",
       "      <th>0</th>\n",
       "      <td>0</td>\n",
       "      <td>0</td>\n",
       "      <td>0</td>\n",
       "    </tr>\n",
       "    <tr>\n",
       "      <th>1</th>\n",
       "      <td>0</td>\n",
       "      <td>1</td>\n",
       "      <td>0</td>\n",
       "    </tr>\n",
       "    <tr>\n",
       "      <th>2</th>\n",
       "      <td>1</td>\n",
       "      <td>0</td>\n",
       "      <td>0</td>\n",
       "    </tr>\n",
       "    <tr>\n",
       "      <th>3</th>\n",
       "      <td>1</td>\n",
       "      <td>1</td>\n",
       "      <td>1</td>\n",
       "    </tr>\n",
       "  </tbody>\n",
       "</table>\n",
       "</div>"
      ],
      "text/plain": [
       "   x1  x2  y\n",
       "0   0   0  0\n",
       "1   0   1  0\n",
       "2   1   0  0\n",
       "3   1   1  1"
      ]
     },
     "execution_count": 47,
     "metadata": {},
     "output_type": "execute_result"
    }
   ],
   "source": [
    "And = pd.DataFrame({'x1':(0,0,1,1),'x2':(0,1,0,1),'y':(0,0,0,1)})\n",
    "And"
   ]
  },
  {
   "cell_type": "code",
   "execution_count": 61,
   "id": "2b8608e9",
   "metadata": {},
   "outputs": [],
   "source": [
    "inputs = And[['x1','x2']]\n",
    "target = And['y']"
   ]
  },
  {
   "cell_type": "markdown",
   "id": "e2e84d39",
   "metadata": {},
   "source": [
    "# Initialize a random weight"
   ]
  },
  {
   "cell_type": "code",
   "execution_count": 62,
   "id": "586c8475",
   "metadata": {},
   "outputs": [],
   "source": [
    "w = np.random.randn(3)*1e-4"
   ]
  },
  {
   "cell_type": "markdown",
   "id": "d5ba5661",
   "metadata": {},
   "source": [
    "# Create an Activation function"
   ]
  },
  {
   "cell_type": "code",
   "execution_count": 63,
   "id": "03cd682a",
   "metadata": {},
   "outputs": [],
   "source": [
    "g = lambda inputs, weights: np.where((np.dot(inputs,weights))>0, 1, 0)"
   ]
  },
  {
   "cell_type": "code",
   "execution_count": 64,
   "id": "58bf1462",
   "metadata": {},
   "outputs": [],
   "source": [
    "inputs = np.c_[inputs, -np.ones((len(inputs),1))]\n",
    "activations=g(inputs,w)"
   ]
  },
  {
   "cell_type": "code",
   "execution_count": 65,
   "id": "7cd1dba3",
   "metadata": {},
   "outputs": [],
   "source": [
    "weights = weights- (10*np.dot(np.transpose(inputs), (activations-target)))"
   ]
  },
  {
   "cell_type": "markdown",
   "id": "ae62ceac",
   "metadata": {},
   "source": [
    "# Finally a training function that iterates the learning algorithm , returning the adapted weights.\n"
   ]
  },
  {
   "cell_type": "code",
   "execution_count": 66,
   "id": "a1f94f74",
   "metadata": {},
   "outputs": [],
   "source": [
    "def train(inputs,targets,weights,eta,n_iterations):\n",
    "    #Add the inputs that match the bias node\n",
    "    inputs = np.c_[inputs, -np.ones((len(inputs),1))]\n",
    "    \n",
    "    for n in range(n_iterations):\n",
    "        activations = g(inputs,weights);\n",
    "        weights = weights- (eta*np.dot(np.transpose(inputs), (activations-targets)))\n",
    "        \n",
    "    return weights"
   ]
  },
  {
   "cell_type": "code",
   "execution_count": 69,
   "id": "976c1e86",
   "metadata": {},
   "outputs": [],
   "source": [
    "inputs = And[['x1','x2']]\n",
    "targets = And['y']"
   ]
  },
  {
   "cell_type": "code",
   "execution_count": 70,
   "id": "3d48e2c2",
   "metadata": {},
   "outputs": [],
   "source": [
    "w = train(inputs,targets,w,10,10)"
   ]
  },
  {
   "cell_type": "code",
   "execution_count": 71,
   "id": "d8c4817e",
   "metadata": {},
   "outputs": [
    {
     "data": {
      "text/plain": [
       "array([10.00005885, 10.00002687, 10.00011784])"
      ]
     },
     "execution_count": 71,
     "metadata": {},
     "output_type": "execute_result"
    }
   ],
   "source": [
    "w"
   ]
  },
  {
   "cell_type": "markdown",
   "id": "7360f5dd",
   "metadata": {},
   "source": [
    "# Checking the performance"
   ]
  },
  {
   "cell_type": "code",
   "execution_count": 72,
   "id": "405579dd",
   "metadata": {},
   "outputs": [
    {
     "data": {
      "text/plain": [
       "array([0, 0, 0, 1])"
      ]
     },
     "execution_count": 72,
     "metadata": {},
     "output_type": "execute_result"
    }
   ],
   "source": [
    "g(np.c_[inputs, -np.ones((len(inputs),1))],w)"
   ]
  },
  {
   "cell_type": "code",
   "execution_count": 73,
   "id": "f2ee6f5e",
   "metadata": {},
   "outputs": [],
   "source": [
    "def train(inputs,targets,weights,eta,n_iterations):\n",
    "    #Add the inputs that match the bias node\n",
    "    inputs = np.c_[inputs, -np.ones((len(inputs),1))]\n",
    "    \n",
    "    for n in range(n_iterations):\n",
    "        activations = g(inputs,weights);\n",
    "        weights = weights- (eta*np.dot(np.transpose(inputs), (activations-targets)))\n",
    "        print(n,weights)\n",
    "        \n",
    "    return weights"
   ]
  },
  {
   "cell_type": "code",
   "execution_count": 74,
   "id": "2ffe4dd6",
   "metadata": {},
   "outputs": [],
   "source": [
    "inputs = And[['x1','x2']]\n",
    "targets = And['y']"
   ]
  },
  {
   "cell_type": "code",
   "execution_count": 75,
   "id": "32f06f33",
   "metadata": {},
   "outputs": [
    {
     "name": "stdout",
     "output_type": "stream",
     "text": [
      "0 [10.00005885 10.00002687 10.00011784]\n",
      "1 [10.00005885 10.00002687 10.00011784]\n",
      "2 [10.00005885 10.00002687 10.00011784]\n",
      "3 [10.00005885 10.00002687 10.00011784]\n",
      "4 [10.00005885 10.00002687 10.00011784]\n",
      "5 [10.00005885 10.00002687 10.00011784]\n",
      "6 [10.00005885 10.00002687 10.00011784]\n",
      "7 [10.00005885 10.00002687 10.00011784]\n",
      "8 [10.00005885 10.00002687 10.00011784]\n",
      "9 [10.00005885 10.00002687 10.00011784]\n"
     ]
    }
   ],
   "source": [
    "w = train(inputs,targets,w,5,10)"
   ]
  },
  {
   "cell_type": "code",
   "execution_count": 76,
   "id": "5a551109",
   "metadata": {},
   "outputs": [
    {
     "data": {
      "text/plain": [
       "array([0, 0, 0, 1])"
      ]
     },
     "execution_count": 76,
     "metadata": {},
     "output_type": "execute_result"
    }
   ],
   "source": [
    "g(np.c_[inputs, -np.ones((len(inputs),1))],w)"
   ]
  },
  {
   "cell_type": "code",
   "execution_count": null,
   "id": "f4e2a400",
   "metadata": {},
   "outputs": [],
   "source": []
  }
 ],
 "metadata": {
  "kernelspec": {
   "display_name": "Python 3",
   "language": "python",
   "name": "python3"
  },
  "language_info": {
   "codemirror_mode": {
    "name": "ipython",
    "version": 3
   },
   "file_extension": ".py",
   "mimetype": "text/x-python",
   "name": "python",
   "nbconvert_exporter": "python",
   "pygments_lexer": "ipython3",
   "version": "3.7.10"
  }
 },
 "nbformat": 4,
 "nbformat_minor": 5
}
